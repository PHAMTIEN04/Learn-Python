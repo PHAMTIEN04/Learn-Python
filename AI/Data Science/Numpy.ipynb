{
 "cells": [
  {
   "cell_type": "code",
   "execution_count": 121,
   "metadata": {},
   "outputs": [],
   "source": [
    "import numpy as np"
   ]
  },
  {
   "attachments": {},
   "cell_type": "markdown",
   "metadata": {},
   "source": [
    "## Creating Numpy Arrays From Python Lists\n",
    "(Tạo mảng Numpy từ danh sách Python)"
   ]
  },
  {
   "cell_type": "code",
   "execution_count": 122,
   "metadata": {},
   "outputs": [
    {
     "data": {
      "text/plain": [
       "array([1, 2, 3, 4])"
      ]
     },
     "execution_count": 122,
     "metadata": {},
     "output_type": "execute_result"
    }
   ],
   "source": [
    "# np.array([1,2,3,4]) tạo ra một mảng một chiều gồm 4 phần tử: 1, 2, 3, và 4 bằng thư viện NumPy của Python.\n",
    "np.array([1,2,3,4])"
   ]
  },
  {
   "cell_type": "code",
   "execution_count": 123,
   "metadata": {},
   "outputs": [
    {
     "data": {
      "text/plain": [
       "[3.14, 4, 2, 3]"
      ]
     },
     "execution_count": 123,
     "metadata": {},
     "output_type": "execute_result"
    }
   ],
   "source": [
    "# Array có thể chứa Float và Int\n",
    "[3.14, 4,2,3]"
   ]
  },
  {
   "cell_type": "code",
   "execution_count": 124,
   "metadata": {},
   "outputs": [
    {
     "data": {
      "text/plain": [
       "array([3.14, 4.  , 2.  , 3.  ])"
      ]
     },
     "execution_count": 124,
     "metadata": {},
     "output_type": "execute_result"
    }
   ],
   "source": [
    "# Khi trong array có 2 kiểu dữ liệu thì nó sẽ kiểu dữ liệu lớn hơn\n",
    "# Dưới đây kiểu dữ liệu Float64 lớn hơn Int32 nên sẽ chuyển dữ liệu trong array sang kiểu dữ liệu lớn hơn là Float64\n",
    "np.array([3.14, 4 , 2 , 3])"
   ]
  },
  {
   "cell_type": "code",
   "execution_count": 125,
   "metadata": {},
   "outputs": [
    {
     "data": {
      "text/plain": [
       "array([1., 2., 3., 4.], dtype=float32)"
      ]
     },
     "execution_count": 125,
     "metadata": {},
     "output_type": "execute_result"
    }
   ],
   "source": [
    "# Ép kiểu dữ liệu của Array sang Float 32bit\n",
    "c = np.array([1,2,3,4],dtype = 'float32')\n",
    "c"
   ]
  },
  {
   "cell_type": "code",
   "execution_count": 126,
   "metadata": {},
   "outputs": [
    {
     "data": {
      "text/plain": [
       "(1, 4)"
      ]
     },
     "execution_count": 126,
     "metadata": {},
     "output_type": "execute_result"
    }
   ],
   "source": [
    "# shape trả về kích trước của mảng (hàng,cột)\n",
    "a2 = np.array([[1,2,3,4]])\n",
    "a2.shape"
   ]
  },
  {
   "cell_type": "code",
   "execution_count": 127,
   "metadata": {},
   "outputs": [
    {
     "data": {
      "text/plain": [
       "2"
      ]
     },
     "execution_count": 127,
     "metadata": {},
     "output_type": "execute_result"
    }
   ],
   "source": [
    "# ndim trả về số chiều của mảng\n",
    "a2.ndim"
   ]
  },
  {
   "cell_type": "code",
   "execution_count": 128,
   "metadata": {},
   "outputs": [
    {
     "data": {
      "text/plain": [
       "dtype('int32')"
      ]
     },
     "execution_count": 128,
     "metadata": {},
     "output_type": "execute_result"
    }
   ],
   "source": [
    "# dtype trả về kiểu dữ liệu của phần tử trong mảng\n",
    "a2.dtype"
   ]
  },
  {
   "cell_type": "code",
   "execution_count": 129,
   "metadata": {},
   "outputs": [
    {
     "data": {
      "text/plain": [
       "4"
      ]
     },
     "execution_count": 129,
     "metadata": {},
     "output_type": "execute_result"
    }
   ],
   "source": [
    "# size trả về số lượng phần tử trong mảng\n",
    "a2.size"
   ]
  },
  {
   "attachments": {},
   "cell_type": "markdown",
   "metadata": {},
   "source": [
    "## Creating Numpy Arrays From Scatch \n",
    "(Tạo mảng NumPy từ đầu)\n",
    "\n",
    "##### zeros, ones, full, arange, linspace"
   ]
  },
  {
   "cell_type": "code",
   "execution_count": 130,
   "metadata": {},
   "outputs": [
    {
     "data": {
      "text/plain": [
       "array([[0, 0, 0, 0],\n",
       "       [0, 0, 0, 0],\n",
       "       [0, 0, 0, 0],\n",
       "       [0, 0, 0, 0]])"
      ]
     },
     "execution_count": 130,
     "metadata": {},
     "output_type": "execute_result"
    }
   ],
   "source": [
    "# zeros là một hàm trong thư viện NumPy của Python được sử dụng để tạo ra một mảng mới với các phần tử bằng 0.\n",
    "# Cú pháp sử dụng hàm zeros như sau: numpy.zeros(shape, dtype=float, order='C')\n",
    "# Trong đó:\n",
    "# shape: là tuple hoặc list chứa kích thước của mảng mới cần tạo.\n",
    "# dtype: là kiểu dữ liệu của các phần tử trong mảng mới. Giá trị mặc định là float64.\n",
    "# order: xác định cách mảng được lưu trữ trong bộ nhớ. Giá trị mặc định là 'C', tương đương với cách lưu trữ theo thứ tự \"C-style\", tức là theo chiều dọc.\n",
    "\n",
    "np.zeros([4,4],dtype=int)"
   ]
  },
  {
   "cell_type": "code",
   "execution_count": 131,
   "metadata": {},
   "outputs": [
    {
     "data": {
      "text/plain": [
       "array([[1, 1, 1, 1],\n",
       "       [1, 1, 1, 1],\n",
       "       [1, 1, 1, 1]])"
      ]
     },
     "execution_count": 131,
     "metadata": {},
     "output_type": "execute_result"
    }
   ],
   "source": [
    "# Tương tự như hàm zeros có điều nó sẽ giá trị phần tử trong mảng trả về là 1\n",
    "np.ones((3,4),dtype=int)"
   ]
  },
  {
   "cell_type": "code",
   "execution_count": 132,
   "metadata": {},
   "outputs": [
    {
     "data": {
      "text/plain": [
       "array([ 0,  2,  4,  6,  8, 10, 12, 14, 16, 18])"
      ]
     },
     "execution_count": 132,
     "metadata": {},
     "output_type": "execute_result"
    }
   ],
   "source": [
    "\n",
    "# arange là một hàm trong thư viện NumPy của Python để tạo ra một mảng các số nguyên hoặc số thực liên tiếp với một khoảng cách cố định giữa chúng.\n",
    "# Cú pháp của hàm arange như sau: numpy.arange([start, ]stop, [step, ]dtype=None)\n",
    "# Trong đó:\n",
    "# start: giá trị đầu tiên trong mảng (mặc định là 0 nếu không được cung cấp).\n",
    "# stop: giá trị cuối cùng trong mảng (không bao gồm giá trị này trong mảng).\n",
    "# step: khoảng cách giữa các giá trị trong mảng (mặc định là 1 nếu không được cung cấp).\n",
    "# dtype: kiểu dữ liệu của mảng (mặc định là kiểu dữ liệu của start nếu không được cung cấp).\n",
    "np.arange(0,20,2)"
   ]
  },
  {
   "cell_type": "code",
   "execution_count": 133,
   "metadata": {},
   "outputs": [
    {
     "data": {
      "text/plain": [
       "array([[2.5, 2.5, 2.5, 2.5, 2.5],\n",
       "       [2.5, 2.5, 2.5, 2.5, 2.5],\n",
       "       [2.5, 2.5, 2.5, 2.5, 2.5]])"
      ]
     },
     "execution_count": 133,
     "metadata": {},
     "output_type": "execute_result"
    }
   ],
   "source": [
    "# Hàm numpy.full trong thư viện NumPy được sử dụng để tạo một mảng với tất cả các phần tử có giá trị bằng nhau.\n",
    "# Cú pháp của hàm numpy.full như sau: numpy.full(shape, fill_value, dtype=None, order='C', *, like=None)\n",
    "# Trong đó:\n",
    "# shape: kích thước của mảng được tạo ra (có thể là một tuple hoặc một số nguyên).\n",
    "# fill_value: giá trị để điền vào tất cả các phần tử của mảng.\n",
    "# dtype (tuỳ chọn): kiểu dữ liệu của mảng (mặc định là None, tức là sử dụng kiểu dữ liệu của fill_value).\n",
    "# order (tuỳ chọn): thứ tự lưu trữ của mảng ('C' cho C-style, hoặc 'F' cho Fortran-style).\n",
    "# like (tuỳ chọn): một mảng khác để sao chép kích thước và kiểu dữ liệu của mảng được tạo ra.\n",
    "np.full([3,5],2.5)"
   ]
  },
  {
   "cell_type": "code",
   "execution_count": 134,
   "metadata": {},
   "outputs": [
    {
     "data": {
      "text/plain": [
       "array([  0.        ,  11.11111111,  22.22222222,  33.33333333,\n",
       "        44.44444444,  55.55555556,  66.66666667,  77.77777778,\n",
       "        88.88888889, 100.        ])"
      ]
     },
     "execution_count": 134,
     "metadata": {},
     "output_type": "execute_result"
    }
   ],
   "source": [
    "# linspace là một hàm của thư viện NumPy được sử dụng để tạo ra một mảng Numpy chứa các giá trị được phân bố đều trong một khoảng giá trị cho trước.\n",
    "# Cú pháp của hàm numpy.linspace như sau:numpy.linspace(start, stop, num=50, endpoint=True, retstep=False, dtype=None, axis=0)\n",
    "# Trong đó:\n",
    "# start: giá trị đầu tiên của khoảng giá trị.\n",
    "# stop: giá trị cuối cùng của khoảng giá trị.\n",
    "# num (tuỳ chọn): số lượng các giá trị được tạo ra (mặc định là 50).\n",
    "# endpoint (tuỳ chọn): xác định xem giá trị stop có nằm trong khoảng giá trị được tạo ra hay không (mặc định là True).\n",
    "# retstep (tuỳ chọn): xác định xem có trả về khoảng cách giữa các giá trị hay không (mặc định là False).\n",
    "# dtype (tuỳ chọn): kiểu dữ liệu của mảng được tạo ra (mặc định là None, tức là sử dụng kiểu dữ liệu mặc định của NumPy).\n",
    "# axis (tuỳ chọn): trục để tạo mảng (mặc định là 0).\n",
    "np.linspace(0,100,10)"
   ]
  },
  {
   "attachments": {},
   "cell_type": "markdown",
   "metadata": {},
   "source": [
    "### random\n"
   ]
  },
  {
   "cell_type": "code",
   "execution_count": 135,
   "metadata": {},
   "outputs": [
    {
     "data": {
      "text/plain": [
       "array([[0.5488135 , 0.71518937, 0.60276338, 0.54488318],\n",
       "       [0.4236548 , 0.64589411, 0.43758721, 0.891773  ],\n",
       "       [0.96366276, 0.38344152, 0.79172504, 0.52889492],\n",
       "       [0.56804456, 0.92559664, 0.07103606, 0.0871293 ]])"
      ]
     },
     "execution_count": 135,
     "metadata": {},
     "output_type": "execute_result"
    }
   ],
   "source": [
    "np.random.seed(0) # trỏ vào 0\n",
    "\n",
    "np.random.random((4,4)) # nhảy số ngẫu nhiên trong phạm vi từ 0.0 cho tới 1.0"
   ]
  },
  {
   "cell_type": "code",
   "execution_count": 136,
   "metadata": {},
   "outputs": [
    {
     "data": {
      "text/plain": [
       "array([[0.5488135 , 0.71518937, 0.60276338, 0.54488318],\n",
       "       [0.4236548 , 0.64589411, 0.43758721, 0.891773  ],\n",
       "       [0.96366276, 0.38344152, 0.79172504, 0.52889492],\n",
       "       [0.56804456, 0.92559664, 0.07103606, 0.0871293 ]])"
      ]
     },
     "execution_count": 136,
     "metadata": {},
     "output_type": "execute_result"
    }
   ],
   "source": [
    "np.random.seed(0) # trỏ vào 0\n",
    "np.random.random((4,4)) # nhảy số ngẫu nhiên trong phạm vi từ 0.0 cho tới 1.0"
   ]
  },
  {
   "cell_type": "code",
   "execution_count": 137,
   "metadata": {},
   "outputs": [
    {
     "data": {
      "text/plain": [
       "array([[0.0202184 , 0.83261985, 0.77815675, 0.87001215],\n",
       "       [0.97861834, 0.79915856, 0.46147936, 0.78052918],\n",
       "       [0.11827443, 0.63992102, 0.14335329, 0.94466892],\n",
       "       [0.52184832, 0.41466194, 0.26455561, 0.77423369]])"
      ]
     },
     "execution_count": 137,
     "metadata": {},
     "output_type": "execute_result"
    }
   ],
   "source": [
    "# rand tương tự như random nhưng không cần ()\n",
    "np.random.rand(4,4)"
   ]
  },
  {
   "cell_type": "code",
   "execution_count": 138,
   "metadata": {},
   "outputs": [
    {
     "data": {
      "text/plain": [
       "array([[ 2.26975462, -1.45436567,  0.04575852],\n",
       "       [-0.18718385,  1.53277921,  1.46935877],\n",
       "       [ 0.15494743,  0.37816252, -0.88778575]])"
      ]
     },
     "execution_count": 138,
     "metadata": {},
     "output_type": "execute_result"
    }
   ],
   "source": [
    "# ma trận 3x3 với các giá trị được lấy ngẫu nhiên theo phân phối chuẩn, với giá trị trung bình bằng 0 và độ lệch chuẩn bằng 1.\n",
    "np.random.normal(0,1,(3,3)) \n"
   ]
  },
  {
   "cell_type": "code",
   "execution_count": 139,
   "metadata": {},
   "outputs": [
    {
     "data": {
      "text/plain": [
       "array([[1, 7, 9, 9, 3],\n",
       "       [6, 7, 2, 0, 3],\n",
       "       [5, 9, 4, 4, 6],\n",
       "       [4, 4, 3, 4, 4]])"
      ]
     },
     "execution_count": 139,
     "metadata": {},
     "output_type": "execute_result"
    }
   ],
   "source": [
    "# ma trận 4x5 với giá trị ngẫu nhiên từ 0 - 10\n",
    "np.random.randint(0,10,(4,5))"
   ]
  },
  {
   "attachments": {},
   "cell_type": "markdown",
   "metadata": {},
   "source": [
    "## Array Indexing & Slicing\n"
   ]
  },
  {
   "attachments": {},
   "cell_type": "markdown",
   "metadata": {},
   "source": [
    "#### One-dimensional subarray (Mảng 1 chiều)"
   ]
  },
  {
   "cell_type": "code",
   "execution_count": 140,
   "metadata": {},
   "outputs": [
    {
     "data": {
      "text/plain": [
       "array([ 8, 14, 15,  3, 15, 13])"
      ]
     },
     "execution_count": 140,
     "metadata": {},
     "output_type": "execute_result"
    }
   ],
   "source": [
    "x1 = np.random.randint(20, size = 6)\n",
    "x1"
   ]
  },
  {
   "cell_type": "code",
   "execution_count": 141,
   "metadata": {},
   "outputs": [
    {
     "data": {
      "text/plain": [
       "(8, 14)"
      ]
     },
     "execution_count": 141,
     "metadata": {},
     "output_type": "execute_result"
    }
   ],
   "source": [
    "x1[0], x1[1]"
   ]
  },
  {
   "attachments": {},
   "cell_type": "markdown",
   "metadata": {},
   "source": [
    "#### Multi-dimensional array (Mảng 2 chiều)"
   ]
  },
  {
   "cell_type": "code",
   "execution_count": 142,
   "metadata": {},
   "outputs": [
    {
     "data": {
      "text/plain": [
       "array([[5, 5, 0, 1],\n",
       "       [5, 9, 3, 0],\n",
       "       [5, 0, 1, 2]])"
      ]
     },
     "execution_count": 142,
     "metadata": {},
     "output_type": "execute_result"
    }
   ],
   "source": [
    "x2 = np.random.randint(10, size = (3,4))\n",
    "x2"
   ]
  },
  {
   "cell_type": "code",
   "execution_count": 143,
   "metadata": {},
   "outputs": [
    {
     "data": {
      "text/plain": [
       "(1, 2)"
      ]
     },
     "execution_count": 143,
     "metadata": {},
     "output_type": "execute_result"
    }
   ],
   "source": [
    "x2[0,3],x2[2,3]"
   ]
  },
  {
   "cell_type": "code",
   "execution_count": 144,
   "metadata": {},
   "outputs": [],
   "source": [
    "x2[0,2] = 6"
   ]
  },
  {
   "cell_type": "code",
   "execution_count": 145,
   "metadata": {},
   "outputs": [
    {
     "data": {
      "text/plain": [
       "array([[5, 5, 6, 1],\n",
       "       [5, 9, 3, 0],\n",
       "       [5, 0, 1, 2]])"
      ]
     },
     "execution_count": 145,
     "metadata": {},
     "output_type": "execute_result"
    }
   ],
   "source": [
    "x2"
   ]
  },
  {
   "attachments": {},
   "cell_type": "markdown",
   "metadata": {},
   "source": [
    "#### Slicing\n",
    "x[start:stop:step]"
   ]
  },
  {
   "cell_type": "code",
   "execution_count": 146,
   "metadata": {},
   "outputs": [
    {
     "data": {
      "text/plain": [
       "array([ 8, 14, 15,  3, 15, 13])"
      ]
     },
     "execution_count": 146,
     "metadata": {},
     "output_type": "execute_result"
    }
   ],
   "source": [
    "x1"
   ]
  },
  {
   "cell_type": "code",
   "execution_count": 147,
   "metadata": {},
   "outputs": [
    {
     "data": {
      "text/plain": [
       "array([ 8, 14, 15])"
      ]
     },
     "execution_count": 147,
     "metadata": {},
     "output_type": "execute_result"
    }
   ],
   "source": [
    "x1[0:3]"
   ]
  },
  {
   "cell_type": "code",
   "execution_count": 148,
   "metadata": {},
   "outputs": [
    {
     "data": {
      "text/plain": [
       "array([ 8, 15, 15])"
      ]
     },
     "execution_count": 148,
     "metadata": {},
     "output_type": "execute_result"
    }
   ],
   "source": [
    "# every other element, every 2 step\n",
    "x1[::2]"
   ]
  },
  {
   "cell_type": "code",
   "execution_count": 149,
   "metadata": {},
   "outputs": [
    {
     "data": {
      "text/plain": [
       "array([[5, 5, 6, 1],\n",
       "       [5, 9, 3, 0],\n",
       "       [5, 0, 1, 2]])"
      ]
     },
     "execution_count": 149,
     "metadata": {},
     "output_type": "execute_result"
    }
   ],
   "source": [
    "x2"
   ]
  },
  {
   "cell_type": "code",
   "execution_count": 150,
   "metadata": {},
   "outputs": [
    {
     "data": {
      "text/plain": [
       "array([[5, 5, 6, 1],\n",
       "       [5, 9, 3, 0],\n",
       "       [5, 0, 1, 2]])"
      ]
     },
     "execution_count": 150,
     "metadata": {},
     "output_type": "execute_result"
    }
   ],
   "source": [
    "x2[0:3][0:3]\n",
    "# Giả sử x2 là một mảng hai chiều, thì x2[0:2][0:3] được hiểu như sau:\n",
    "\n",
    "# x2[0:2] sẽ trả về một mảng mới gồm các hàng từ hàng thứ 0 đến hàng thứ 1 của mảng x2 (lưu ý rằng chỉ số của hàng bắt đầu từ 0). Do đó, kết quả sẽ là một mảng hai chiều mới có số hàng là 2.\n",
    "# Tiếp theo, với mảng hai chiều mới này, ta sử dụng chỉ số [0:3] để truy xuất các phần tử của các hàng trong mảng mới. Với chỉ số này, ta sẽ lấy các phần tử từ cột đầu tiên đến cột thứ 2 (lưu ý rằng chỉ số của cột cũng bắt đầu từ 0).\n",
    "# Vậy kết quả cuối cùng sẽ là một mảng 2x3, bao gồm 2 hàng và 3 cột, chứa các phần tử của hàng 0 và 1 của mảng ban đầu, và cột 0 đến cột 2 của các hàng đó."
   ]
  },
  {
   "attachments": {},
   "cell_type": "markdown",
   "metadata": {},
   "source": [
    "#### Reshaping of Arrays & Transpose (Thay đổi hình dạng của mảng)"
   ]
  },
  {
   "cell_type": "code",
   "execution_count": null,
   "metadata": {},
   "outputs": [],
   "source": []
  }
 ],
 "metadata": {
  "kernelspec": {
   "display_name": "base",
   "language": "python",
   "name": "python3"
  },
  "language_info": {
   "codemirror_mode": {
    "name": "ipython",
    "version": 3
   },
   "file_extension": ".py",
   "mimetype": "text/x-python",
   "name": "python",
   "nbconvert_exporter": "python",
   "pygments_lexer": "ipython3",
   "version": "3.10.9"
  },
  "orig_nbformat": 4
 },
 "nbformat": 4,
 "nbformat_minor": 2
}
